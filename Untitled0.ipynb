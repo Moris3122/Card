{
  "nbformat": 4,
  "nbformat_minor": 0,
  "metadata": {
    "colab": {
      "provenance": [],
      "authorship_tag": "ABX9TyOfWVBmIe5/x1JnnewlDAj5",
      "include_colab_link": true
    },
    "kernelspec": {
      "name": "python3",
      "display_name": "Python 3"
    },
    "language_info": {
      "name": "python"
    }
  },
  "cells": [
    {
      "cell_type": "markdown",
      "metadata": {
        "id": "view-in-github",
        "colab_type": "text"
      },
      "source": [
        "<a href=\"https://colab.research.google.com/github/Moris3122/Card/blob/main/Untitled0.ipynb\" target=\"_parent\"><img src=\"https://colab.research.google.com/assets/colab-badge.svg\" alt=\"Open In Colab\"/></a>"
      ]
    },
    {
      "cell_type": "markdown",
      "source": [
        "### **DIA 1**"
      ],
      "metadata": {
        "id": "fG0u0qU0Vozm"
      }
    },
    {
      "cell_type": "markdown",
      "source": [
        "### **Variables que pueden cambiar con el tiempo**"
      ],
      "metadata": {
        "id": "abiS3oQjV8Ol"
      }
    },
    {
      "cell_type": "code",
      "source": [
        "edad = 30\n",
        "hora = 12\n",
        "print(edad, hora)"
      ],
      "metadata": {
        "id": "rnKbAzFT9ll6"
      },
      "execution_count": null,
      "outputs": []
    },
    {
      "cell_type": "markdown",
      "source": [
        "**Modificamos las variables para demostrar que pueden**"
      ],
      "metadata": {
        "id": "YiBRDcNB-dv0"
      }
    },
    {
      "cell_type": "code",
      "source": [
        "edad = 31\n",
        "hora = 15\n",
        "print(edad, hora)"
      ],
      "metadata": {
        "colab": {
          "base_uri": "https://localhost:8080/"
        },
        "id": "XLS9AXOx-m9o",
        "outputId": "77a01751-2843-4026-fa3f-d4f024925564"
      },
      "execution_count": null,
      "outputs": [
        {
          "output_type": "stream",
          "name": "stdout",
          "text": [
            "31 15\n"
          ]
        }
      ]
    },
    {
      "cell_type": "markdown",
      "source": [
        "**Funciones**"
      ],
      "metadata": {
        "id": "r34mE1rA-2Yz"
      }
    },
    {
      "cell_type": "code",
      "source": [
        "\n",
        "def mi_funcion(parametro1, parametro2):\n",
        "    # Código de la función\n",
        "    resultado = parametro1 + parametro2\n",
        "    return resultado\n"
      ],
      "metadata": {
        "id": "E5VG4DUI--bi"
      },
      "execution_count": 2,
      "outputs": []
    },
    {
      "cell_type": "code",
      "source": [
        "\n",
        "def mi_funcion(parametro1, parametro2):\n",
        "    # Código de la función\n",
        "    resultado = parametro1 + parametro2\n",
        "    return resultado\n",
        "    print(resultado)\n"
      ],
      "metadata": {
        "id": "-ExG1XpmQrAJ"
      },
      "execution_count": 3,
      "outputs": []
    },
    {
      "cell_type": "markdown",
      "source": [
        "### **Llamamos a la función**"
      ],
      "metadata": {
        "id": "q_nPMbz3MFHp"
      }
    },
    {
      "cell_type": "code",
      "source": [
        "valor1 = 10\n",
        "valor2 = 20\n",
        "resultado = mi_funcion(valor1, valor2)\n",
        "print(\"Resultado de la función:\", resultado)"
      ],
      "metadata": {
        "id": "t6bddKohMT4g"
      },
      "execution_count": null,
      "outputs": []
    },
    {
      "cell_type": "markdown",
      "source": [
        "### **Funciones anónimas (lambda)**"
      ],
      "metadata": {
        "id": "5oUxzk6oRFXD"
      }
    },
    {
      "cell_type": "code",
      "source": [
        "saluda = lambda: print(\"Hola\")\n",
        "saluda()"
      ],
      "metadata": {
        "id": "DJJjDx9aRKe5"
      },
      "execution_count": null,
      "outputs": []
    },
    {
      "cell_type": "markdown",
      "source": [
        "### **Sintaxis básica**"
      ],
      "metadata": {
        "id": "QYPeM6W5RZ2J"
      }
    },
    {
      "cell_type": "code",
      "source": [
        "condicion = True"
      ],
      "metadata": {
        "id": "57gBFVj2Ru2Q"
      },
      "execution_count": null,
      "outputs": []
    },
    {
      "cell_type": "markdown",
      "source": [
        "### **Ejemplo de estructura de control if-else**"
      ],
      "metadata": {
        "id": "eLNYdkhlR9_L"
      }
    },
    {
      "cell_type": "code",
      "source": [
        "if condicion:\n",
        "    print(\"La condición es verdadera\")\n",
        "else:\n",
        "    print(\"La condición es falsa\")"
      ],
      "metadata": {
        "id": "JTkPxcNKSEKq"
      },
      "execution_count": null,
      "outputs": []
    },
    {
      "cell_type": "markdown",
      "source": [
        "### **Comentarios**"
      ],
      "metadata": {
        "id": "qxFiM3cIU7Ud"
      }
    },
    {
      "cell_type": "markdown",
      "source": [
        "### **Esto es un comentario de una línea**"
      ],
      "metadata": {
        "id": "ZfCj_udCVA7d"
      }
    },
    {
      "cell_type": "code",
      "source": [
        "\n",
        "\"\"\"\n",
        "Esto es un comentario\n",
        "de varias líneas\n",
        "\"\"\""
      ],
      "metadata": {
        "colab": {
          "base_uri": "https://localhost:8080/",
          "height": 35
        },
        "id": "VhiQZIT3VHut",
        "outputId": "6432b530-10a0-4161-f6e7-6926d0f7aed3"
      },
      "execution_count": null,
      "outputs": [
        {
          "output_type": "execute_result",
          "data": {
            "text/plain": [
              "'\\nEsto es un comentario\\nde varias líneas\\n'"
            ],
            "application/vnd.google.colaboratory.intrinsic+json": {
              "type": "string"
            }
          },
          "metadata": {},
          "execution_count": 16
        }
      ]
    },
    {
      "cell_type": "markdown",
      "source": [
        "### **DIA 2**"
      ],
      "metadata": {
        "id": "aewMcLrZWLGt"
      }
    },
    {
      "cell_type": "markdown",
      "source": [
        "### **Numbers**"
      ],
      "metadata": {
        "id": "QUyUBrgeWfs7"
      }
    },
    {
      "cell_type": "code",
      "source": [
        "edad = 30\n",
        "pi = 3.14\n",
        "salario = 1500.50\n",
        "print(edad, pi, salario)\n",
        "\n",
        "numero_grande = 1e6  # 1 millón\n",
        "numero_pequeno = 1e-6  # 0.000001\n",
        "print(numero_grande, numero_pequeno)"
      ],
      "metadata": {
        "id": "A2nqf4pKWmIZ"
      },
      "execution_count": null,
      "outputs": []
    },
    {
      "cell_type": "markdown",
      "source": [
        "### **Type annotations for numbers**"
      ],
      "metadata": {
        "id": "AlKJ0g-qWvuV"
      }
    },
    {
      "cell_type": "code",
      "source": [
        "edad: int = 30\n",
        "pi: float = 3.14\n",
        "salario: float = 1500.50\n",
        "print(edad, pi, salario)"
      ],
      "metadata": {
        "id": "12ZFIyFPW1VE"
      },
      "execution_count": null,
      "outputs": []
    },
    {
      "cell_type": "markdown",
      "source": [
        "### **Strings**"
      ],
      "metadata": {
        "id": "EsbV0In6W77K"
      }
    },
    {
      "cell_type": "code",
      "source": [
        "nombre = \"Sustantiva\"\n",
        "apellido = 'Academy'\n",
        "print(nombre, apellido)"
      ],
      "metadata": {
        "colab": {
          "base_uri": "https://localhost:8080/"
        },
        "id": "F5eMqb_IXA_3",
        "outputId": "acec03d8-fd94-421d-df50-a0d957ed7dea"
      },
      "execution_count": null,
      "outputs": [
        {
          "output_type": "stream",
          "name": "stdout",
          "text": [
            "Sustantiva Academy\n"
          ]
        }
      ]
    },
    {
      "cell_type": "markdown",
      "source": [
        "### **Type annotation for string**"
      ],
      "metadata": {
        "id": "XXfY_wGrXHUe"
      }
    },
    {
      "cell_type": "code",
      "source": [
        "mensaje: str = \"Hola, ¿cómo estás?\"\n",
        "print(mensaje)"
      ],
      "metadata": {
        "id": "WCtGDAbRXKTP"
      },
      "execution_count": null,
      "outputs": []
    },
    {
      "cell_type": "code",
      "source": [],
      "metadata": {
        "id": "KWiwwC0qUAbC"
      },
      "execution_count": null,
      "outputs": []
    },
    {
      "cell_type": "markdown",
      "source": [
        "### **String concatenation**"
      ],
      "metadata": {
        "id": "bbEgqV0lXRDE"
      }
    },
    {
      "cell_type": "code",
      "source": [
        "saludo = \"Hola, \" + nombre + \" \" + apellido + \"!\"\n",
        "print(saludo)\n"
      ],
      "metadata": {
        "colab": {
          "base_uri": "https://localhost:8080/"
        },
        "id": "RXNHiD_dXYRD",
        "outputId": "6b71d6c6-3cb7-4aa8-ae89-437530d97db7"
      },
      "execution_count": null,
      "outputs": [
        {
          "output_type": "stream",
          "name": "stdout",
          "text": [
            "Hola, Sustantiva Academy!\n"
          ]
        }
      ]
    },
    {
      "cell_type": "markdown",
      "source": [
        "### **f-strings**"
      ],
      "metadata": {
        "id": "zcop6aU6Xdoi"
      }
    },
    {
      "cell_type": "code",
      "source": [
        "saludo_fstring = f\"Hola, {nombre} {apellido}!\"\n",
        "print(saludo_fstring)"
      ],
      "metadata": {
        "id": "WTg7VUVSXhjq"
      },
      "execution_count": null,
      "outputs": []
    },
    {
      "cell_type": "markdown",
      "source": [
        "### **String methods**"
      ],
      "metadata": {
        "id": "4HwegpPRXoUT"
      }
    },
    {
      "cell_type": "code",
      "source": [
        "print(len(nombre))\n",
        "print(nombre.upper())\n",
        "print(nombre.lower())\n",
        "print(nombre.split('a'))"
      ],
      "metadata": {
        "colab": {
          "base_uri": "https://localhost:8080/"
        },
        "id": "QQN-w8UWXs-C",
        "outputId": "9bc0720b-10cb-47f8-bbd6-f7c6142fadb2"
      },
      "execution_count": null,
      "outputs": [
        {
          "output_type": "stream",
          "name": "stdout",
          "text": [
            "10\n",
            "SUSTANTIVA\n",
            "sustantiva\n",
            "['Sust', 'ntiv', '']\n"
          ]
        }
      ]
    },
    {
      "cell_type": "markdown",
      "source": [
        "### **Dictionaries**"
      ],
      "metadata": {
        "id": "4LpZHUBVXyVA"
      }
    },
    {
      "cell_type": "code",
      "source": [
        "persona = {\n",
        "    \"nombre\": \"Fulanita\",\n",
        "    \"puntaje\": 9567,\n",
        "    \"cursoFavorito\": {\n",
        "        \"nombre\": \"Básico de Python\",\n",
        "        \"clases\": 30,\n",
        "        \"duracion\": \"2 horas\"\n",
        "    }\n",
        "}\n",
        "print(persona)"
      ],
      "metadata": {
        "id": "eUJzhG-nX23M"
      },
      "execution_count": null,
      "outputs": []
    },
    {
      "cell_type": "markdown",
      "source": [
        "### **Accessing dictionary elements**"
      ],
      "metadata": {
        "id": "UteyZcJHYCPR"
      }
    },
    {
      "cell_type": "code",
      "source": [
        "print(persona[\"nombre\"])\n",
        "print(persona[\"cursoFavorito\"][\"nombre\"])\n",
        "print(persona[\"puntaje\"])\n"
      ],
      "metadata": {
        "id": "UVQexrIxYI8K"
      },
      "execution_count": null,
      "outputs": []
    },
    {
      "cell_type": "markdown",
      "source": [
        "### **Booleans**"
      ],
      "metadata": {
        "id": "jLeatj4YYSs5"
      }
    },
    {
      "cell_type": "code",
      "source": [
        "curso_completado = True\n",
        "lectura_completada = False"
      ],
      "metadata": {
        "id": "-YazdiziYXPZ"
      },
      "execution_count": null,
      "outputs": []
    },
    {
      "cell_type": "markdown",
      "source": [
        "### **Checking data types**"
      ],
      "metadata": {
        "id": "p3TUlYhkYhf7"
      }
    },
    {
      "cell_type": "code",
      "source": [
        "print(type(\"#SustantivaCursoPython\"))\n",
        "print(type(30))\n",
        "print(type({}))\n",
        "print(type([]))"
      ],
      "metadata": {
        "id": "2oPyULOwYktU"
      },
      "execution_count": null,
      "outputs": []
    },
    {
      "cell_type": "markdown",
      "source": [
        "### **Dia 3**"
      ],
      "metadata": {
        "id": "aeQASIhlfBq3"
      }
    },
    {
      "cell_type": "markdown",
      "source": [
        "### **/ (División):**"
      ],
      "metadata": {
        "id": "uRFLxNTXfQfO"
      }
    },
    {
      "cell_type": "markdown",
      "source": [
        "Se asigna a variable result que es de tipo float 10 dividido por 3 y luego se imprime el resultado"
      ],
      "metadata": {
        "id": "akMePhxn9xNI"
      }
    },
    {
      "cell_type": "code",
      "source": [
        "result = 10 / 3\n",
        "print(result)  # Output: 3.3333333333333335"
      ],
      "metadata": {
        "id": "ktWuLVY9fIkH"
      },
      "execution_count": null,
      "outputs": []
    },
    {
      "cell_type": "markdown",
      "source": [
        "### **False:**"
      ],
      "metadata": {
        "id": "T2MloQ3wfVxU"
      }
    },
    {
      "cell_type": "code",
      "source": [
        "flag = False\n",
        "print(flag)  # Output: False"
      ],
      "metadata": {
        "id": "QRLbCPnCfaDj"
      },
      "execution_count": null,
      "outputs": []
    },
    {
      "cell_type": "markdown",
      "source": [
        "### **class:**"
      ],
      "metadata": {
        "id": "rQxEZEXffdbh"
      }
    },
    {
      "cell_type": "code",
      "source": [
        "class MyClass:\n",
        "    def __init__(self, name):\n",
        "        self.name = name\n",
        "\n",
        "obj = MyClass(\"Example\")\n",
        "print(obj.name)  # Output: Example"
      ],
      "metadata": {
        "colab": {
          "base_uri": "https://localhost:8080/"
        },
        "id": "0EBUP3c8fjBz",
        "outputId": "0d7b72f4-5d75-4c76-c693-355e76cea403"
      },
      "execution_count": null,
      "outputs": [
        {
          "output_type": "stream",
          "name": "stdout",
          "text": [
            "Example\n"
          ]
        }
      ]
    },
    {
      "cell_type": "markdown",
      "source": [
        "### **finally:**"
      ],
      "metadata": {
        "id": "f3baBpZhfpJw"
      }
    },
    {
      "cell_type": "code",
      "source": [
        "try:\n",
        "    x = 1 / 0\n",
        "except ZeroDivisionError:\n",
        "    print(\"Error: division by zero\")\n",
        "finally:\n",
        "    print(\"Finally block executed\")"
      ],
      "metadata": {
        "colab": {
          "base_uri": "https://localhost:8080/"
        },
        "id": "kO3zS3YMfv0N",
        "outputId": "e9dc5372-bca1-46db-bce5-a3edbb89dc37"
      },
      "execution_count": null,
      "outputs": [
        {
          "output_type": "stream",
          "name": "stdout",
          "text": [
            "Error: division by zero\n",
            "Finally block executed\n"
          ]
        }
      ]
    },
    {
      "cell_type": "markdown",
      "source": [
        "### **is:**"
      ],
      "metadata": {
        "id": "Bi8XKK7Af0Ec"
      }
    },
    {
      "cell_type": "code",
      "source": [
        "a = [1, 2, 3]\n",
        "b = a\n",
        "print(a is b)  # Output: True"
      ],
      "metadata": {
        "id": "KEOrpRELf3qY"
      },
      "execution_count": null,
      "outputs": []
    },
    {
      "cell_type": "markdown",
      "source": [
        "### **return:**"
      ],
      "metadata": {
        "id": "QFRXt7R-f9RT"
      }
    },
    {
      "cell_type": "code",
      "source": [
        "def add_numbers(x, y):\n",
        "    return x + y\n",
        "\n",
        "result = add_numbers(3, 5)\n",
        "print(result)  # Output: 8"
      ],
      "metadata": {
        "colab": {
          "base_uri": "https://localhost:8080/"
        },
        "id": "rQRh_7-dgBfa",
        "outputId": "02bc5629-06b8-43c8-ddef-48c3bcaa3022"
      },
      "execution_count": null,
      "outputs": [
        {
          "output_type": "stream",
          "name": "stdout",
          "text": [
            "8\n"
          ]
        }
      ]
    }
  ]
}